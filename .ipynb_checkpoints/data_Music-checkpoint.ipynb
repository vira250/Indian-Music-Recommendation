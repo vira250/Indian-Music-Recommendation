{
 "cells": [
  {
   "cell_type": "code",
   "execution_count": 32,
   "id": "0673b4ad-2c18-4780-97a5-b0cf2cbfac08",
   "metadata": {},
   "outputs": [],
   "source": [
    "import pandas as pd\n",
    "import numpy as np\n",
    "from sklearn.feature_extraction.text import TfidfVectorizer\n",
    "from sklearn.metrics.pairwise import cosine_similarity\n",
    "import requests"
   ]
  },
  {
   "cell_type": "code",
   "execution_count": 44,
   "id": "d7325470-c67b-4113-9442-b4e3af9d240d",
   "metadata": {},
   "outputs": [],
   "source": [
    "# Fetch data from the URL\n",
    "url = \"music_indian.csv\"\n",
    "df = pd.read_csv(url)"
   ]
  },
  {
   "cell_type": "code",
   "execution_count": 46,
   "id": "29cdf613-34f2-4869-aa9c-f389dc1bb3b2",
   "metadata": {},
   "outputs": [],
   "source": [
    "# Create features for recommendation\n",
    "df['features'] = (\n",
    "    df['Region'].fillna('') + ' ' + \n",
    "    df['Festival'].fillna('') + ' ' + \n",
    "    df['Tradition'].fillna('') + ' ' + \n",
    "    df['Song Name'].fillna('') + ' ' + \n",
    "    df['Author'].fillna('')\n",
    ")"
   ]
  },
  {
   "cell_type": "code",
   "execution_count": 48,
   "id": "89c3c932-2709-42ab-9e4d-20b804bec2d1",
   "metadata": {},
   "outputs": [],
   "source": [
    "# Create TF-IDF vectorizer\n",
    "tfidf = TfidfVectorizer(stop_words='english')\n",
    "tfidf_matrix = tfidf.fit_transform(df['features'])"
   ]
  },
  {
   "cell_type": "code",
   "execution_count": 40,
   "id": "f5b06cd9-2b73-4ec4-9c7f-e9d09802daa7",
   "metadata": {},
   "outputs": [],
   "source": [
    "# Calculate cosine similarity\n",
    "cosine_sim = cosine_similarity(tfidf_matrix, tfidf_matrix)"
   ]
  },
  {
   "cell_type": "code",
   "execution_count": 54,
   "id": "6ca0a7c2-5fe0-494b-a1cf-216beb1fbb97",
   "metadata": {},
   "outputs": [],
   "source": [
    "# Function to get recommendations\n",
    "def get_recommendations(region='', festival='', tradition='', cosine_sim=cosine_sim):\n",
    "    # Filter the dataframe based on user selections\n",
    "    mask = (\n",
    "        (df['Region'].str.contains(region, case=False, na=False) if region else True) &\n",
    "        (df['Festival'].str.contains(festival, case=False, na=False) if festival else True) &\n",
    "        (df['Tradition'].str.contains(tradition, case=False, na=False) if tradition else True)\n",
    "    )\n",
    "    filtered_df = df[mask]\n",
    "    \n",
    "    if filtered_df.empty:\n",
    "        return []\n",
    "\n",
    "# Get the Sdataframe\n",
    "    idx = filtered_df.sample().index[0]\n",
    "    \n",
    "    # Get the pairwise similarity scores\n",
    "    sim_scores = list(enumerate(cosine_sim[idx]))\n",
    "    \n",
    "    # Sort the items based on similarity scores\n",
    "    sim_scores = sorted(sim_scores, key=lambda x: x[1], reverse=True)\n",
    "    \n",
    "    # Get the scores of the 10 most similar items\n",
    "    sim_scores = sim_scores[1:11]\n",
    "    \n",
    "    # Get the item indices\n",
    "    item_indices = [i[0] for i in sim_scores]\n",
    "    \n",
    "    # Return the top 10 most similar items\n",
    "    return df.iloc[item_indices][['Song Name', 'Author', 'Region', 'Festival', 'Tradition', 'URL']].to_dict('records')\n"
   ]
  },
  {
   "cell_type": "code",
   "execution_count": 56,
   "id": "cf253227-fe78-4587-b31f-e9d6e5007c64",
   "metadata": {},
   "outputs": [],
   "source": [
    "# Get unique values for dropdowns\n",
    "regions = sorted(df['Region'].dropna().unique().tolist())\n",
    "festivals = sorted(df['Festival'].dropna().unique().tolist())\n",
    "traditions = sorted(df['Tradition'].dropna().unique().tolist())"
   ]
  },
  {
   "cell_type": "code",
   "execution_count": 58,
   "id": "079ae4dd-001f-4563-89af-0cc7f98a2409",
   "metadata": {},
   "outputs": [
    {
     "name": "stdout",
     "output_type": "stream",
     "text": [
      "Data processing complete!\n"
     ]
    }
   ],
   "source": [
    "# Save the preprocessed data and categories\n",
    "df.to_csv('preprocessed_music_data.csv', index=False)\n",
    "import joblib\n",
    "joblib.dump(cosine_sim, 'cosine_sim_matrix.joblib')\n",
    "joblib.dump({\n",
    "    'regions': regions,\n",
    "    'festivals': festivals,\n",
    "    'traditions': traditions\n",
    "}, 'categories.joblib')\n",
    "\n",
    "print(\"Data processing complete!\")"
   ]
  },
  {
   "cell_type": "code",
   "execution_count": null,
   "id": "3fefdd51-1667-456d-bd82-8e685992e51d",
   "metadata": {},
   "outputs": [],
   "source": []
  }
 ],
 "metadata": {
  "kernelspec": {
   "display_name": "Python 3 (ipykernel)",
   "language": "python",
   "name": "python3"
  },
  "language_info": {
   "codemirror_mode": {
    "name": "ipython",
    "version": 3
   },
   "file_extension": ".py",
   "mimetype": "text/x-python",
   "name": "python",
   "nbconvert_exporter": "python",
   "pygments_lexer": "ipython3",
   "version": "3.12.7"
  }
 },
 "nbformat": 4,
 "nbformat_minor": 5
}
